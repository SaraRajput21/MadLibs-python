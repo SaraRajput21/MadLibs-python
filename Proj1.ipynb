{
  "nbformat": 4,
  "nbformat_minor": 0,
  "metadata": {
    "colab": {
      "provenance": [],
      "authorship_tag": "ABX9TyPOfq5K/5cW5DC1tRHB87cS",
      "include_colab_link": true
    },
    "kernelspec": {
      "name": "python3",
      "display_name": "Python 3"
    },
    "language_info": {
      "name": "python"
    }
  },
  "cells": [
    {
      "cell_type": "markdown",
      "metadata": {
        "id": "view-in-github",
        "colab_type": "text"
      },
      "source": [
        "<a href=\"https://colab.research.google.com/github/SaraRajput21/MadLibs-python/blob/main/Proj1.ipynb\" target=\"_parent\"><img src=\"https://colab.research.google.com/assets/colab-badge.svg\" alt=\"Open In Colab\"/></a>"
      ]
    },
    {
      "cell_type": "code",
      "execution_count": null,
      "metadata": {
        "colab": {
          "base_uri": "https://localhost:8080/"
        },
        "id": "fUhQ8dwhoZJ7",
        "outputId": "e980c6c4-d7c3-46f3-8d03-0651fdeca034"
      },
      "outputs": [
        {
          "output_type": "stream",
          "name": "stdout",
          "text": [
            "Welcome to Mad Libs!\n",
            "Please provide the following words:\n",
            "Enter an adjective: shiny\n",
            "Enter a noun: dragon\n",
            "Enter a verb (past tense): danced\n",
            "Enter an adverb: gracefully\n",
            "Enter another adjective: mysterious\n",
            "Enter another noun: sword\n",
            "Enter one more noun: wizard\n",
            "Enter one more adjective: wise\n",
            "\n",
            "Here's your Mad Libs story:\n",
            "\n",
            "\n",
            "    Once upon a time, in a shiny land, there was a dragon who loved to danced gracefully.\n",
            "    One day, the dragon found a mysterious sword lying on the ground. \n",
            "    Curious, the dragon picked it up and suddenly, a wise wizard appeared!\n",
            "    The dragon and the wizard became best friends and lived happily ever after.\n",
            "    \n"
          ]
        }
      ],
      "source": [
        "def mad_libs():\n",
        "    print(\"Welcome to Mad Libs!\")\n",
        "    print(\"Please provide the following words:\")\n",
        "\n",
        "    # Prompt the user for various words\n",
        "    adjective1 = input(\"Enter an adjective: \")\n",
        "    noun1 = input(\"Enter a noun: \")\n",
        "    verb_past_tense1 = input(\"Enter a verb (past tense): \")\n",
        "    adverb1 = input(\"Enter an adverb: \")\n",
        "    adjective2 = input(\"Enter another adjective: \")\n",
        "    noun2 = input(\"Enter another noun: \")\n",
        "    noun3 = input(\"Enter one more noun: \")\n",
        "    adjective3 = input(\"Enter one more adjective: \")\n",
        "\n",
        "    # The Mad Libs story template\n",
        "    story = f\"\"\"\n",
        "    Once upon a time, in a {adjective1} land, there was a {noun1} who loved to {verb_past_tense1} {adverb1}.\n",
        "    One day, the {noun1} found a {adjective2} {noun2} lying on the ground.\n",
        "    Curious, the {noun1} picked it up and suddenly, a {adjective3} {noun3} appeared!\n",
        "    The {noun1} and the {noun3} became best friends and lived happily ever after.\n",
        "    \"\"\"\n",
        "\n",
        "    # Display the completed story\n",
        "    print(\"\\nHere's your Mad Libs story:\\n\")\n",
        "    print(story)\n",
        "\n",
        "if __name__ == \"__main__\":\n",
        "    mad_libs()"
      ]
    },
    {
      "cell_type": "markdown",
      "source": [],
      "metadata": {
        "id": "yPmr0o6eys92"
      }
    }
  ]
}